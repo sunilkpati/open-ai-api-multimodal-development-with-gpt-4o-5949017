{
 "cells": [
  {
   "cell_type": "markdown",
   "metadata": {},
   "source": [
    "# Use OpenAI GPT-4o to read eob files and add itemized service list to a spreadhseet\n",
    "\n",
    "This setup extracts all image files from the data folder, uses GPT-4o with function calling to identify images with eob, read the eob, and return relevant data in a specified structure. Finally, Python uses the data to add new rows to a CSV file."
   ]
  },
  {
   "cell_type": "code",
   "execution_count": 1,
   "metadata": {},
   "outputs": [],
   "source": [
    "# Import modules and dependencies\n",
    "import os\n",
    "from utils.manage_data_eob import import_eob, write_eob\n",
    "from utils.process_eob import process_eob"
   ]
  },
  {
   "cell_type": "code",
   "execution_count": null,
   "metadata": {},
   "outputs": [],
   "source": [
    "# Import expenses.csv, place the data in a DataFrame, and display the data\n",
    "eob_df = import_eob(\"eob.csv\")\n",
    "eob_df"
   ]
  },
  {
   "cell_type": "code",
   "execution_count": 3,
   "metadata": {},
   "outputs": [],
   "source": [
    "# Get data folder\n",
    "data_folder = \"data-eob\"\n",
    "\n",
    "# Get the list of files in the data folder\n",
    "files = os.listdir(data_folder)\n",
    "\n",
    "# Filter the list of files to only include image files\n",
    "image_files = [file for file in files if os.path.splitext(file)[1].lower() in ['.jpg', '.jpeg', '.png', '.gif']]"
   ]
  },
  {
   "cell_type": "code",
   "execution_count": null,
   "metadata": {},
   "outputs": [],
   "source": [
    "# Iterate over each file in the  data folder\n",
    "for index, image_file in enumerate(image_files, start=1):\n",
    "    print(f\"Processing image {index} of {len(image_files)}.\")\n",
    "    print(\"---------------------------\")\n",
    "\n",
    "    # Get the full path to the current image file\n",
    "    image_path = os.path.join(data_folder, image_file)\n",
    "\n",
    "    # Run process_receipt() on each file\n",
    "    eob_df = process_eob(eob_df, image_path)\n",
    "\n",
    "    print('\\n')\n",
    "\n",
    "# Output the DataFrame with any new expense rows added\n",
    "eob_df"
   ]
  },
  {
   "cell_type": "code",
   "execution_count": 5,
   "metadata": {},
   "outputs": [],
   "source": [
    "# Use the DataFrame to write the updated expenses.csv file\n",
    "write_eob(eob_df, \"eob.csv\")"
   ]
  },
  {
   "cell_type": "code",
   "execution_count": null,
   "metadata": {},
   "outputs": [],
   "source": []
  }
 ],
 "metadata": {
  "kernelspec": {
   "display_name": "Python 3",
   "language": "python",
   "name": "python3"
  },
  "language_info": {
   "codemirror_mode": {
    "name": "ipython",
    "version": 3
   },
   "file_extension": ".py",
   "mimetype": "text/x-python",
   "name": "python",
   "nbconvert_exporter": "python",
   "pygments_lexer": "ipython3",
   "version": "3.11.9"
  }
 },
 "nbformat": 4,
 "nbformat_minor": 2
}
