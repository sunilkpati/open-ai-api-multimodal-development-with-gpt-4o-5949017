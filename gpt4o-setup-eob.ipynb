{
 "cells": [
  {
   "cell_type": "markdown",
   "metadata": {},
   "source": [
    "# Accessing multimodal capapabilities in GPT-4o\n",
    "\n",
    "This notebook provides a basic demonstration of how to use the GPT-4o model through the OpenAI API to interpret both text and image prompts.\n",
    "\n",
    "Relevant links:\n",
    "- [Introduction to GPT-4o cookbook from OpenAI](https://cookbook.openai.com/examples/gpt4o/introduction_to_gpt4o)\n",
    "- [API reference for chat completions](https://platform.openai.com/docs/api-reference/chat/create)\n",
    "- [Documentation for function calling](https://platform.openai.com/docs/guides/function-calling)\n",
    "- [JSON Schema documentation](https://json-schema.org/understanding-json-schema/reference/non_json_data#light-scheme-icon)"
   ]
  },
  {
   "cell_type": "code",
   "execution_count": 1,
   "metadata": {},
   "outputs": [],
   "source": [
    "# Import necessary libraries\n",
    "import os\n",
    "import pandas as pd\n",
    "from openai import OpenAI\n",
    "from dotenv import load_dotenv\n",
    "import base64\n",
    "import json\n",
    "from datetime import date\n",
    "\n",
    "# Load the .env file\n",
    "load_dotenv()\n",
    "\n",
    "# Set up an OpenAI object using the OpenAI API key\n",
    "client = OpenAI(api_key=os.environ.get(\"OPENAI_API_KEY\"))"
   ]
  },
  {
   "cell_type": "markdown",
   "metadata": {},
   "source": [
    "## Create a standard chat completion using GPT-4o."
   ]
  },
  {
   "cell_type": "code",
   "execution_count": 2,
   "metadata": {},
   "outputs": [
    {
     "name": "stdout",
     "output_type": "stream",
     "text": [
      "Beneath golden leaves,\n",
      "A duck glides on tranquil ponds—\n",
      "Whispers of autumn.\n"
     ]
    }
   ],
   "source": [
    "completion = client.chat.completions.create(\n",
    "  model=\"gpt-4o\",\n",
    "  messages=[\n",
    "    {\n",
    "      \"role\": \"system\", \n",
    "      \"content\": \"You are a helpful assistant.\"\n",
    "    },\n",
    "    {\n",
    "      \"role\": \"user\", \n",
    "      \"content\": \"Write a haiku about a duck.\"\n",
    "    } \n",
    "  ]\n",
    ")\n",
    "\n",
    "print(completion.choices[0].message.content)"
   ]
  },
  {
   "cell_type": "markdown",
   "metadata": {},
   "source": [
    "### Encode images\n",
    "To pass an image to the model, first turn it into a base64-encoded string."
   ]
  },
  {
   "cell_type": "code",
   "execution_count": 3,
   "metadata": {},
   "outputs": [],
   "source": [
    "# Image path\n",
    "IMAGE_PATH = \"data-eob/claim_sunil_01162024.png\"\n",
    "\n",
    "# Encode the image file as a base64 string\n",
    "def encode_image(image_path):\n",
    "  with open(image_path, \"rb\") as image_file:\n",
    "    return base64.b64encode(image_file.read()).decode(\"utf-8\")\n",
    "\n",
    "base64_image = encode_image(IMAGE_PATH)"
   ]
  },
  {
   "cell_type": "markdown",
   "metadata": {},
   "source": [
    "### Prompt GPT-4o using an image\n",
    "Next, pass the image in the messages object by setting the `type` to `image_url`."
   ]
  },
  {
   "cell_type": "code",
   "execution_count": 4,
   "metadata": {},
   "outputs": [
    {
     "name": "stdout",
     "output_type": "stream",
     "text": [
      "The providers listed in the image are:\n",
      "\n",
      "1. JOSHUA A HALL\n",
      "2. SNAP DIAGNOSTICS LLC\n"
     ]
    }
   ],
   "source": [
    "\n",
    "# Pass the image to GPT-4o anlong with a prompt.\n",
    "response = client.chat.completions.create(\n",
    "  model=\"gpt-4o\",\n",
    "  messages=[\n",
    "    {\n",
    "      \"role\": \"system\",\n",
    "      \"content\": \"Answer the quesiton based on the provided image.\"\n",
    "    },\n",
    "    {\n",
    "      \"role\": \"user\",\n",
    "      \"content\": [\n",
    "        {\n",
    "            \"type\": \"text\",\n",
    "            \"text\": \"Who are the providers listed in this image?\"\n",
    "        },\n",
    "        {\n",
    "          \"type\": \"image_url\", \n",
    "          \"image_url\": {\n",
    "            \"url\": f\"data:image/png;base64,{base64_image}\"\n",
    "          }\n",
    "        }\n",
    "      ]\n",
    "    }\n",
    "  ],\n",
    "  temperature=0.0,\n",
    ")\n",
    "\n",
    "# Print the response\n",
    "print(response.choices[0].message.content)"
   ]
  },
  {
   "cell_type": "markdown",
   "metadata": {},
   "source": [
    "### Get structured data from GPT-4o\n",
    "To get the output as JSON, specify JSON output in the system message and set the `response_format` parameter to `{\"type\": \"json_object\"}`."
   ]
  },
  {
   "cell_type": "code",
   "execution_count": 5,
   "metadata": {},
   "outputs": [
    {
     "name": "stdout",
     "output_type": "stream",
     "text": [
      "{\n",
      "  \"providers\": [\n",
      "    {\n",
      "      \"provider\": \"JOSHUA A HALL\",\n",
      "      \"date_of_service\": \"01/16/2024\",\n",
      "      \"service_description\": \"OFFICE/OTHER OUTPATIENT VISITS\",\n",
      "      \"provider_billed\": \"$135.00\",\n",
      "      \"member_discount\": \"$100.48\",\n",
      "      \"net_charged\": \"$34.52\",\n",
      "      \"provider_adjustment\": \"$0.00\",\n",
      "      \"other_health_plan_coverage\": \"$0.00\",\n",
      "      \"your_plan_paid\": \"$0.00\",\n",
      "      \"copay\": \"$34.52\",\n",
      "      \"deductible\": \"$0.00\",\n",
      "      \"coinsurance\": \"$0.00\",\n",
      "      \"excluded\": \"$0.00\",\n",
      "      \"total\": \"$34.52\"\n",
      "    },\n",
      "    {\n",
      "      \"provider\": \"SNAP DIAGNOSTICS LLC\",\n",
      "      \"date_of_service\": \"12/16/2023\",\n",
      "      \"service_description\": \"DIAGNOSTIC TESTING\",\n",
      "      \"provider_billed\": \"$1,100.00\",\n",
      "      \"member_discount\": \"$1,100.00\",\n",
      "      \"net_charged\": \"$0.00\",\n",
      "      \"provider_adjustment\": \"$0.00\",\n",
      "      \"other_health_plan_coverage\": \"$0.00\",\n",
      "      \"your_plan_paid\": \"$0.00\",\n",
      "      \"copay\": \"$0.00\",\n",
      "      \"deductible\": \"$0.00\",\n",
      "      \"coinsurance\": \"$0.00\",\n",
      "      \"excluded\": \"$0.00\",\n",
      "      \"total\": \"$0.00\"\n",
      "    }\n",
      "  ]\n",
      "}\n"
     ]
    }
   ],
   "source": [
    "response = client.chat.completions.create(\n",
    "  model=\"gpt-4o\",\n",
    "  messages=[\n",
    "    {\n",
    "      \"role\": \"system\",\n",
    "      \"content\": \"If the image is a explanation of benefits(eob), output provider, Date of service, service description, provider billed, member discount, net charged, copay and total for each provider as JSON. If it's not a eob, ask for a eob.\"\n",
    "    },\n",
    "    {\n",
    "      \"role\": \"user\",\n",
    "      \"content\": [\n",
    "        {\n",
    "          \"type\": \"image_url\",\n",
    "          \"image_url\": {\n",
    "            \"url\": f\"data:image/png;base64,{base64_image}\"\n",
    "          }\n",
    "        }\n",
    "      ]\n",
    "    }\n",
    "  ],\n",
    "  temperature=0.0,\n",
    "  response_format={ \"type\": \"json_object\" }\n",
    ")\n",
    "\n",
    "print(response.choices[0].message.content)"
   ]
  },
  {
   "cell_type": "markdown",
   "metadata": {},
   "source": [
    "### Set up a function call\n",
    "To further control the JSON output, use function calling. See the [API reference](https://platform.openai.com/docs/api-reference/chat/create#chat-create-tools) for more on function calling, and [JSON schema reference](https://json-schema.org/understanding-json-schema/reference) for info on how to format the function call schema.\n",
    "\n",
    "Below the function call schema is broken out into a variable to make the function easier to read."
   ]
  },
  {
   "cell_type": "code",
   "execution_count": 18,
   "metadata": {},
   "outputs": [],
   "source": [
    "function_call = [\n",
    "    {\n",
    "        \"type\": \"function\",\n",
    "        \"function\": {\n",
    "            \"name\": \"itemize_eob\",\n",
    "            \"description\": \"Itemize a eob from an image\",\n",
    "            \"parameters\": {\n",
    "                \"type\": \"object\",\n",
    "                \"properties\": {\n",
    "                    \"patient\": {\n",
    "                        \"type\": \"string\",\n",
    "                        \"description\": \"Name of patient\",\n",
    "                    },\n",
    "                    \"provider\": {\n",
    "                        \"type\": \"string\",\n",
    "                        \"description\": \"Name of provider\",\n",
    "                    },\n",
    "                    \"DocumentID\": {\n",
    "                        \"type\": \"string\",\n",
    "                        \"description\": \"DocumentID\",\n",
    "                    },\n",
    "                    \"servicedate\": {\n",
    "                        \"type\": \"string\",\n",
    "                        \"format\": \"date\",\n",
    "                        \"description\": \"Service Date\",\n",
    "                    },\n",
    "                    \"claimdate\": {\n",
    "                        \"type\": \"string\",\n",
    "                        \"format\": \"date\",\n",
    "                        \"description\": \"Claim Date\",\n",
    "                    },\n",
    "                    \"items\": {\n",
    "                        \"type\": \"array\",\n",
    "                        \"items\": {\n",
    "                            \"type\": \"object\",\n",
    "                            \"properties\": {\n",
    "                                \"name\": {\n",
    "                                    \"type\": \"string\",\n",
    "                                    \"description\": \"Service Name\",\n",
    "                                },\n",
    "                                \"billed\": {\n",
    "                                    \"type\": \"number\",\n",
    "                                    \"description\": \"Provider billed\",\n",
    "                                },\n",
    "                                \"discount\": {\n",
    "                                    \"type\": \"number\",\n",
    "                                    \"description\": \"Member discount\",\n",
    "                                },\n",
    "                                \"charged\": {\n",
    "                                    \"type\": \"number\",\n",
    "                                    \"description\": \"Net charged\",\n",
    "                                },\n",
    "                                \"copay\": {\n",
    "                                    \"type\": \"number\",\n",
    "                                    \"description\": \"Copay\",\n",
    "                                },\n",
    "                                \"total\": {\n",
    "                                    \"type\": \"number\",\n",
    "                                    \"description\": \"Total\",\n",
    "                                },\n",
    "                                \"category\": {\n",
    "                                    \"type\": \"string\",\n",
    "                                    \"description\": \"Category of item\",\n",
    "                                    \"enum\": [\"OfficeVisit\", \"Diagnostic\", \"Telehealth\", \"other\"],\n",
    "                                },\n",
    "                            },\n",
    "                        },\n",
    "                        \"description\": \"List of services in eob\",\n",
    "                    },\n",
    "                },\n",
    "                \"required\": [\"patient\", \"claimdate\", \"provider\", \"servicedate\", \"DocumentID\", \"items\"],\n",
    "            },\n",
    "        }\n",
    "    }\n",
    "]"
   ]
  },
  {
   "cell_type": "markdown",
   "metadata": {},
   "source": [
    "### Multimodal prompting with function calling\n",
    "Combine the multimodal image prompt with a function call to capture relevant data from receipts.\n",
    "\n",
    "Note: The system message is set up to capture any images that are not of receipts and return a regular completion instead of the function call."
   ]
  },
  {
   "cell_type": "code",
   "execution_count": 19,
   "metadata": {},
   "outputs": [
    {
     "name": "stdout",
     "output_type": "stream",
     "text": [
      "ChatCompletion(id='chatcmpl-9gn4LZG8fAtWSwEONAOOQgf6Tqvpp', choices=[Choice(finish_reason='tool_calls', index=0, logprobs=None, message=ChatCompletionMessage(content=None, role='assistant', function_call=None, tool_calls=[ChatCompletionMessageToolCall(id='call_59p016z2o8Cu3eTMCevJtCMI', function=Function(arguments='{\"patient\": \"SUNIL K PATI\", \"provider\": \"JOSHUA A HALL\", \"DocumentID\": \"WM2401261128042605\", \"servicedate\": \"2024-01-16\", \"claimdate\": \"2024-01-17\", \"items\": [{\"name\": \"OFFICE/OTHER OUTPATIENT VISITS\", \"billed\": 135, \"discount\": 100.48, \"charged\": 34.52, \"copay\": 34.52, \"total\": 34.52, \"category\": \"OfficeVisit\"}]}', name='itemize_eob'), type='function'), ChatCompletionMessageToolCall(id='call_oK2BruIs8plv12RdMCDa1oY0', function=Function(arguments='{\"patient\": \"SUNIL K PATI\", \"provider\": \"SNAP DIAGNOSTICS LLC\", \"DocumentID\": \"WM2401261128042605\", \"servicedate\": \"2023-12-16\", \"claimdate\": \"2024-01-09\", \"items\": [{\"name\": \"DIAGNOSTIC TESTING\", \"billed\": 1100, \"discount\": 1100, \"charged\": 0, \"total\": 0, \"category\": \"Diagnostic\"}]}', name='itemize_eob'), type='function')]))], created=1719985425, model='gpt-4o-2024-05-13', object='chat.completion', system_fingerprint='fp_4008e3b719', usage=CompletionUsage(completion_tokens=227, prompt_tokens=1312, total_tokens=1539))\n"
     ]
    },
    {
     "data": {
      "application/json": {
       "DocumentID": "WM2401261128042605",
       "claimdate": "2024-01-17",
       "items": [
        {
         "billed": 135,
         "category": "OfficeVisit",
         "charged": 34.52,
         "copay": 34.52,
         "discount": 100.48,
         "name": "OFFICE/OTHER OUTPATIENT VISITS",
         "total": 34.52
        }
       ],
       "patient": "SUNIL K PATI",
       "provider": "JOSHUA A HALL",
       "servicedate": "2024-01-16"
      },
      "text/plain": [
       "<IPython.core.display.JSON object>"
      ]
     },
     "execution_count": 19,
     "metadata": {
      "application/json": {
       "expanded": true,
       "root": "root"
      }
     },
     "output_type": "execute_result"
    }
   ],
   "source": [
    "# Use IPython.display.JSON for easier to read JSON output.\n",
    "from IPython.display import JSON\n",
    "\n",
    "response = client.chat.completions.create(\n",
    "  model=\"gpt-4o\",\n",
    "  messages=[\n",
    "    {\"role\": \"system\", \"content\": \"If the image is a explaination of benefits(eob), process the data. If it's not a eob, ask for a eob.\"},\n",
    "    {\"role\": \"user\", \"content\": [\n",
    "      {\"type\": \"image_url\", \"image_url\": {\n",
    "        \"url\": f\"data:image/png;base64,{base64_image}\"}\n",
    "      }\n",
    "    ]},\n",
    "  ],\n",
    "  tools=function_call, # <-- Add the function_call schema from above\n",
    "  tool_choice=\"auto\",\n",
    "  temperature=0.0,\n",
    ")\n",
    "\n",
    "print(response)\n",
    "# Parse the JSON data from the response\n",
    "receipt_data = json.loads(response.choices[0].message.tool_calls[0].function.arguments)\n",
    "\n",
    "# Display the JSON data\n",
    "JSON(receipt_data, expanded=True)\n",
    "\n"
   ]
  },
  {
   "cell_type": "markdown",
   "metadata": {},
   "source": [
    "### Create a Dataframe from a CSV file"
   ]
  },
  {
   "cell_type": "code",
   "execution_count": 25,
   "metadata": {},
   "outputs": [
    {
     "data": {
      "text/html": [
       "<div>\n",
       "<style scoped>\n",
       "    .dataframe tbody tr th:only-of-type {\n",
       "        vertical-align: middle;\n",
       "    }\n",
       "\n",
       "    .dataframe tbody tr th {\n",
       "        vertical-align: top;\n",
       "    }\n",
       "\n",
       "    .dataframe thead th {\n",
       "        text-align: right;\n",
       "    }\n",
       "</style>\n",
       "<table border=\"1\" class=\"dataframe\">\n",
       "  <thead>\n",
       "    <tr style=\"text-align: right;\">\n",
       "      <th></th>\n",
       "      <th>Service Date</th>\n",
       "      <th>Patient Name</th>\n",
       "      <th>Provider Name</th>\n",
       "      <th>Claim Date</th>\n",
       "      <th>Document ID</th>\n",
       "      <th>Service Name</th>\n",
       "      <th>Billed</th>\n",
       "      <th>Discount</th>\n",
       "      <th>charged</th>\n",
       "      <th>copay</th>\n",
       "      <th>Total</th>\n",
       "      <th>category</th>\n",
       "    </tr>\n",
       "  </thead>\n",
       "  <tbody>\n",
       "  </tbody>\n",
       "</table>\n",
       "</div>"
      ],
      "text/plain": [
       "Empty DataFrame\n",
       "Columns: [Service Date, Patient Name, Provider Name, Claim Date, Document ID, Service Name, Billed, Discount, charged, copay, Total, category]\n",
       "Index: []"
      ]
     },
     "execution_count": 25,
     "metadata": {},
     "output_type": "execute_result"
    }
   ],
   "source": [
    "eob_df = pd.read_csv(\"eob.csv\")\n",
    "eob_df"
   ]
  },
  {
   "cell_type": "markdown",
   "metadata": {},
   "source": [
    "### Add new rows to the dataframe\n",
    "Iterate through `receipt_data`, create a new row for each item, and add the data to the `expenses_df` DataFrame."
   ]
  },
  {
   "cell_type": "code",
   "execution_count": 26,
   "metadata": {},
   "outputs": [
    {
     "name": "stdout",
     "output_type": "stream",
     "text": [
      "Adding item: OFFICE/OTHER OUTPATIENT VISITS\n"
     ]
    },
    {
     "data": {
      "text/html": [
       "<div>\n",
       "<style scoped>\n",
       "    .dataframe tbody tr th:only-of-type {\n",
       "        vertical-align: middle;\n",
       "    }\n",
       "\n",
       "    .dataframe tbody tr th {\n",
       "        vertical-align: top;\n",
       "    }\n",
       "\n",
       "    .dataframe thead th {\n",
       "        text-align: right;\n",
       "    }\n",
       "</style>\n",
       "<table border=\"1\" class=\"dataframe\">\n",
       "  <thead>\n",
       "    <tr style=\"text-align: right;\">\n",
       "      <th></th>\n",
       "      <th>Service Date</th>\n",
       "      <th>Patient Name</th>\n",
       "      <th>Provider Name</th>\n",
       "      <th>Claim Date</th>\n",
       "      <th>Document ID</th>\n",
       "      <th>Service Name</th>\n",
       "      <th>Billed</th>\n",
       "      <th>Discount</th>\n",
       "      <th>charged</th>\n",
       "      <th>Copay</th>\n",
       "      <th>Total</th>\n",
       "      <th>category</th>\n",
       "    </tr>\n",
       "  </thead>\n",
       "  <tbody>\n",
       "    <tr>\n",
       "      <th>0</th>\n",
       "      <td>2024-01-16</td>\n",
       "      <td>SUNIL K PATI</td>\n",
       "      <td>JOSHUA A HALL</td>\n",
       "      <td>2024-01-17</td>\n",
       "      <td>WM2401261128042605</td>\n",
       "      <td>OFFICE/OTHER OUTPATIENT VISITS</td>\n",
       "      <td>135</td>\n",
       "      <td>100.48</td>\n",
       "      <td>34.52</td>\n",
       "      <td>34.52</td>\n",
       "      <td>34.52</td>\n",
       "      <td>OfficeVisit</td>\n",
       "    </tr>\n",
       "  </tbody>\n",
       "</table>\n",
       "</div>"
      ],
      "text/plain": [
       "  Service Date  Patient Name  Provider Name  Claim Date         Document ID  \\\n",
       "0   2024-01-16  SUNIL K PATI  JOSHUA A HALL  2024-01-17  WM2401261128042605   \n",
       "\n",
       "                     Service Name  Billed  Discount  charged  Copay  Total  \\\n",
       "0  OFFICE/OTHER OUTPATIENT VISITS     135    100.48    34.52  34.52  34.52   \n",
       "\n",
       "      category  \n",
       "0  OfficeVisit  "
      ]
     },
     "execution_count": 26,
     "metadata": {},
     "output_type": "execute_result"
    }
   ],
   "source": [
    "new_rows = []\n",
    "for item in receipt_data['items']:\n",
    "\n",
    "  print(f\"Adding item: {item['name']}\")\n",
    "  new_row = {\n",
    "    \"Service Date\": receipt_data.get(\"servicedate\", date.today().isoformat()),\n",
    "    \"Patient Name\": receipt_data.get(\"patient\", \"\"),\n",
    "    \"Provider Name\": receipt_data.get(\"provider\", \"\"),\n",
    "    \"Claim Date\": receipt_data.get(\"claimdate\", date.today().isoformat()),\n",
    "    \"Document ID\": receipt_data.get(\"DocumentID\", \"\"),\n",
    "    \"Service Name\": item.get(\"name\", \"\"),\n",
    "    \"Billed\": item.get(\"billed\", 0),\n",
    "    \"Discount\": item.get(\"discount\", 0),\n",
    "    \"charged\": item.get(\"charged\", 0),\n",
    "    \"Copay\": item.get(\"copay\", 0),\n",
    "    \"Total\": item.get(\"total\", 0),\n",
    "    \"category\": item.get(\"category\", \"Uncategorized\"),\n",
    "  }\n",
    "  new_rows.append(new_row)\n",
    "\n",
    "# Convert the list of new rows to a DataFrame\n",
    "new_rows_df = pd.DataFrame(new_rows)\n",
    "\n",
    "# Concatenate the new rows DataFrame to the existing expenses DataFrame\n",
    "if eob_df.empty:\n",
    "  eob_df = new_rows_df\n",
    "else:\n",
    "  eob_df = pd.concat([eob_df, new_rows_df], ignore_index=True)\n",
    "\n",
    "eob_df"
   ]
  },
  {
   "cell_type": "markdown",
   "metadata": {},
   "source": [
    "### Write new rows to CSV\n",
    "Save the new data in the existing CSV by overwriting it with the `eob_df` data."
   ]
  },
  {
   "cell_type": "code",
   "execution_count": 10,
   "metadata": {},
   "outputs": [],
   "source": [
    "eob_df.to_csv('eob.csv', index=False)"
   ]
  },
  {
   "cell_type": "code",
   "execution_count": null,
   "metadata": {},
   "outputs": [],
   "source": []
  }
 ],
 "metadata": {
  "kernelspec": {
   "display_name": "Python 3",
   "language": "python",
   "name": "python3"
  },
  "language_info": {
   "codemirror_mode": {
    "name": "ipython",
    "version": 3
   },
   "file_extension": ".py",
   "mimetype": "text/x-python",
   "name": "python",
   "nbconvert_exporter": "python",
   "pygments_lexer": "ipython3",
   "version": "3.11.9"
  }
 },
 "nbformat": 4,
 "nbformat_minor": 2
}
